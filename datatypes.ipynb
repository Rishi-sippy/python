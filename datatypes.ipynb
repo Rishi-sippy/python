{
 "cells": [
  {
   "cell_type": "code",
   "execution_count": 1,
   "id": "2882b972",
   "metadata": {},
   "outputs": [
    {
     "name": "stdout",
     "output_type": "stream",
     "text": [
      "5.7\n",
      "<class 'float'>\n"
     ]
    }
   ],
   "source": [
    "## floating data types\n",
    "height =5.7\n",
    "print(height)\n",
    "print(type(height))"
   ]
  },
  {
   "cell_type": "code",
   "execution_count": 2,
   "id": "6ad2d36d",
   "metadata": {},
   "outputs": [
    {
     "name": "stdout",
     "output_type": "stream",
     "text": [
      "Rishi\n",
      "<class 'str'>\n"
     ]
    }
   ],
   "source": [
    "## string data type\n",
    "\n",
    "name ='Rishi'\n",
    "print(name)\n",
    "print(type(name))\n"
   ]
  },
  {
   "cell_type": "code",
   "execution_count": 3,
   "id": "16cb3bc7",
   "metadata": {},
   "outputs": [
    {
     "data": {
      "text/plain": [
       "bool"
      ]
     },
     "execution_count": 3,
     "metadata": {},
     "output_type": "execute_result"
    }
   ],
   "source": [
    "## boolean datatype\n",
    "is_true = False\n",
    "type(is_true)\n",
    "\n",
    "\n",
    "a = 10\n",
    "b = 10\n",
    "\n",
    "type(a == b)"
   ]
  },
  {
   "cell_type": "code",
   "execution_count": 4,
   "id": "c5aaeec0",
   "metadata": {},
   "outputs": [
    {
     "name": "stdout",
     "output_type": "stream",
     "text": [
      "Rishi Sippy\n"
     ]
    }
   ],
   "source": [
    "##  String Concatenation\n",
    "first_name = \"Rishi\"\n",
    "last_name = \"Sippy\"\n",
    "full_name = first_name + \" \" + last_name\n",
    "print(full_name)\n"
   ]
  },
  {
   "cell_type": "code",
   "execution_count": 5,
   "id": "0a3b2b53",
   "metadata": {},
   "outputs": [
    {
     "name": "stdout",
     "output_type": "stream",
     "text": [
      "My name is Rishi and I am 25 years old.\n"
     ]
    }
   ],
   "source": [
    "## String Formatting (f-strings)\n",
    "age = 25\n",
    "print(f\"My name is {name} and I am {age} years old.\")\n"
   ]
  },
  {
   "cell_type": "code",
   "execution_count": 6,
   "id": "de01b88a",
   "metadata": {},
   "outputs": [
    {
     "name": "stdout",
     "output_type": "stream",
     "text": [
      "P\n",
      "n\n",
      "Pyt\n",
      "Pto\n"
     ]
    }
   ],
   "source": [
    "##String Indexing and Slicing\n",
    "word = \"Python\"\n",
    "print(word[0])       # First character: P\n",
    "print(word[-1])      # Last character: n\n",
    "print(word[0:3])     # Substring: Pyt\n",
    "print(word[::2])     # Every second letter: Pto\n"
   ]
  },
  {
   "cell_type": "code",
   "execution_count": 7,
   "id": "c54c4036",
   "metadata": {},
   "outputs": [
    {
     "name": "stdout",
     "output_type": "stream",
     "text": [
      "HELLO WORLD\n",
      "Hello world\n",
      "hello Python\n",
      "['hello', 'world']\n"
     ]
    }
   ],
   "source": [
    "## String Methods\n",
    "text = \"hello world\"\n",
    "print(text.upper())         # HELLO WORLD\n",
    "print(text.capitalize())    # Hello world\n",
    "print(text.replace(\"world\", \"Python\"))  # hello Python\n",
    "print(text.split())         # ['hello', 'world']\n"
   ]
  },
  {
   "cell_type": "code",
   "execution_count": 9,
   "id": "e50fdd95",
   "metadata": {},
   "outputs": [
    {
     "name": "stdout",
     "output_type": "stream",
     "text": [
      "True\n",
      "False\n"
     ]
    }
   ],
   "source": [
    "## Check if Substring Exists\n",
    "sentence = \"I am learning Python.\"\n",
    "print(\"Python\" in sentence)     # True\n",
    "print(\"Java\" in sentence)       # False\n"
   ]
  },
  {
   "cell_type": "code",
   "execution_count": 10,
   "id": "6c6bc25c",
   "metadata": {},
   "outputs": [
    {
     "name": "stdout",
     "output_type": "stream",
     "text": [
      "Life is short,\n",
      "learn Python and build cool stuff.\n"
     ]
    }
   ],
   "source": [
    "## Multiline String\n",
    "quote = \"\"\"Life is short,\n",
    "learn Python and build cool stuff.\"\"\"\n",
    "print(quote)\n"
   ]
  },
  {
   "cell_type": "code",
   "execution_count": 12,
   "id": "8ffac5a7",
   "metadata": {},
   "outputs": [
    {
     "name": "stdout",
     "output_type": "stream",
     "text": [
      "P\n",
      "y\n",
      "t\n",
      "h\n",
      "o\n",
      "n\n"
     ]
    }
   ],
   "source": [
    "## Loop Through a String\n",
    "for char in \"Python\":\n",
    "    print(char)\n"
   ]
  },
  {
   "cell_type": "code",
   "execution_count": 14,
   "id": "4ac5b67d",
   "metadata": {},
   "outputs": [
    {
     "name": "stdout",
     "output_type": "stream",
     "text": [
      "18\n"
     ]
    }
   ],
   "source": [
    "## String Length\n",
    "message = \"Welcome to Python!\"\n",
    "print(len(message))  # Number of characters\n"
   ]
  },
  {
   "cell_type": "code",
   "execution_count": 15,
   "id": "9684d06c",
   "metadata": {},
   "outputs": [
    {
     "name": "stdout",
     "output_type": "stream",
     "text": [
      "Rishi\n",
      "Rishi  \n",
      "  Rishi\n"
     ]
    }
   ],
   "source": [
    "## Strip Whitespace\n",
    "data = \"  Rishi  \"\n",
    "print(data.strip())      # \"Rishi\"\n",
    "print(data.lstrip())     # \"Rishi  \"\n",
    "print(data.rstrip())     # \"  Rishi\"\n"
   ]
  },
  {
   "cell_type": "code",
   "execution_count": null,
   "id": "b52ce2c6",
   "metadata": {},
   "outputs": [],
   "source": []
  }
 ],
 "metadata": {
  "kernelspec": {
   "display_name": "Python 3",
   "language": "python",
   "name": "python3"
  },
  "language_info": {
   "codemirror_mode": {
    "name": "ipython",
    "version": 3
   },
   "file_extension": ".py",
   "mimetype": "text/x-python",
   "name": "python",
   "nbconvert_exporter": "python",
   "pygments_lexer": "ipython3",
   "version": "3.11.13"
  }
 },
 "nbformat": 4,
 "nbformat_minor": 5
}
