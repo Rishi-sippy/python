{
 "cells": [
  {
   "cell_type": "code",
   "execution_count": null,
   "id": "2e875a0a",
   "metadata": {},
   "outputs": [
    {
     "name": "stdout",
     "output_type": "stream",
     "text": [
      "you can watch porn now\n"
     ]
    }
   ],
   "source": [
    "## Simple if Statement\n",
    "age = 20\n",
    "if age>=18:\n",
    "  print('you can watch porn now')"
   ]
  },
  {
   "cell_type": "code",
   "execution_count": null,
   "id": "8dd49b44",
   "metadata": {},
   "outputs": [
    {
     "name": "stdout",
     "output_type": "stream",
     "text": [
      "Find someone for sex\n"
     ]
    }
   ],
   "source": [
    "## if...else Statement\n",
    "if age<18:\n",
    "  print(\"Kindly please refrain from masterbating\")\n",
    "else:\n",
    "  print(\"Find someone for sex\")"
   ]
  },
  {
   "cell_type": "code",
   "execution_count": null,
   "id": "35f90f42",
   "metadata": {},
   "outputs": [
    {
     "name": "stdout",
     "output_type": "stream",
     "text": [
      "Grade: D or below\n"
     ]
    }
   ],
   "source": [
    "## if...elif...else Ladder\n",
    "marks = 12\n",
    "\n",
    "if marks >= 90:\n",
    "    print(\"Grade: A\")\n",
    "elif marks >= 80:\n",
    "    print(\"Grade: B\")\n",
    "elif marks >= 70:\n",
    "    print(\"Grade: C\")\n",
    "else:\n",
    "    print(\"Grade: D or below\")\n"
   ]
  },
  {
   "cell_type": "code",
   "execution_count": null,
   "id": "6f9a9948",
   "metadata": {},
   "outputs": [],
   "source": [
    "## Nested if Statements\n",
    "num = 15\n",
    "\n",
    "if num > 0:\n",
    "    if num % 3 == 0:\n",
    "        print(\"Positive and divisible by 3\")\n",
    "    else:\n",
    "        print(\"Positive but not divisible by 3\")\n",
    "else:\n",
    "    print(\"Not a positive number\")\n"
   ]
  },
  {
   "cell_type": "code",
   "execution_count": 9,
   "id": "d0b9f78d",
   "metadata": {},
   "outputs": [
    {
     "name": "stdout",
     "output_type": "stream",
     "text": [
      "Login successful\n"
     ]
    }
   ],
   "source": [
    "## Using Logical Operators\n",
    "\n",
    "username = \"admin\"\n",
    "password = \"1234\"\n",
    "\n",
    "if username == \"admin\" and password == \"1234\":\n",
    "    print(\"Login successful\")\n",
    "else:\n",
    "    print(\"Login failed\")\n"
   ]
  },
  {
   "cell_type": "code",
   "execution_count": 10,
   "id": "82be06d0",
   "metadata": {},
   "outputs": [
    {
     "name": "stdout",
     "output_type": "stream",
     "text": [
      "Max value: 20\n"
     ]
    }
   ],
   "source": [
    "## Ternary Operator (Short if Expression)\n",
    "a = 10\n",
    "b = 20\n",
    "\n",
    "# One-liner conditional expression\n",
    "max_value = a if a > b else b\n",
    "print(\"Max value:\", max_value)\n"
   ]
  },
  {
   "cell_type": "code",
   "execution_count": null,
   "id": "2e8b4b68",
   "metadata": {},
   "outputs": [],
   "source": []
  }
 ],
 "metadata": {
  "kernelspec": {
   "display_name": "Python 3",
   "language": "python",
   "name": "python3"
  },
  "language_info": {
   "codemirror_mode": {
    "name": "ipython",
    "version": 3
   },
   "file_extension": ".py",
   "mimetype": "text/x-python",
   "name": "python",
   "nbconvert_exporter": "python",
   "pygments_lexer": "ipython3",
   "version": "3.11.13"
  }
 },
 "nbformat": 4,
 "nbformat_minor": 5
}
