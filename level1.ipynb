{
 "cells": [
  {
   "cell_type": "code",
   "execution_count": 2,
   "id": "fa3659c0",
   "metadata": {},
   "outputs": [
    {
     "data": {
      "text/plain": [
       "2"
      ]
     },
     "execution_count": 2,
     "metadata": {},
     "output_type": "execute_result"
    }
   ],
   "source": [
    "1+1 "
   ]
  },
  {
   "cell_type": "code",
   "execution_count": 6,
   "id": "832dac0f",
   "metadata": {},
   "outputs": [
    {
     "name": "stdout",
     "output_type": "stream",
     "text": [
      "Rishi\n",
      "rishi\n"
     ]
    }
   ],
   "source": [
    "name = 'Rishi'\n",
    "Name = 'rishi'\n",
    "print(name)\n",
    "print(Name)"
   ]
  },
  {
   "cell_type": "code",
   "execution_count": 1,
   "id": "39162044",
   "metadata": {},
   "outputs": [
    {
     "name": "stdout",
     "output_type": "stream",
     "text": [
      "29\n"
     ]
    }
   ],
   "source": [
    "age=29\n",
    "if age>21:\n",
    "  print(age)"
   ]
  },
  {
   "cell_type": "code",
   "execution_count": 2,
   "id": "e3b50f90",
   "metadata": {},
   "outputs": [
    {
     "name": "stdout",
     "output_type": "stream",
     "text": [
      "Hello World\n"
     ]
    }
   ],
   "source": [
    "## This is single line comment \n",
    "print('Hello World')"
   ]
  },
  {
   "cell_type": "code",
   "execution_count": 5,
   "id": "ce4c71f5",
   "metadata": {},
   "outputs": [
    {
     "data": {
      "text/plain": [
       "int"
      ]
     },
     "execution_count": 5,
     "metadata": {},
     "output_type": "execute_result"
    }
   ],
   "source": [
    "name='Rishi'\n",
    "type(name)\n",
    "\n",
    "age=23\n",
    "type(age)"
   ]
  },
  {
   "cell_type": "code",
   "execution_count": 5,
   "id": "68dd60c5",
   "metadata": {},
   "outputs": [
    {
     "name": "stdout",
     "output_type": "stream",
     "text": [
      "Correct Indentataion\n",
      "format indentation\n",
      "ourter loop indentation\n"
     ]
    }
   ],
   "source": [
    "if True:\n",
    "  print('Correct Indentataion')\n",
    "  if False:\n",
    "    print('false')\n",
    "  print('format indentation')\n",
    "print('ourter loop indentation')"
   ]
  },
  {
   "cell_type": "code",
   "execution_count": 9,
   "id": "d20978e4",
   "metadata": {},
   "outputs": [
    {
     "name": "stdout",
     "output_type": "stream",
     "text": [
      "rishi <class 'str'>\n"
     ]
    }
   ],
   "source": [
    "name= 'rishi'\n",
    "age='27'\n",
    "weight='79'\n",
    "print(name, type(name))\n"
   ]
  },
  {
   "cell_type": "code",
   "execution_count": 10,
   "id": "4f7524d6",
   "metadata": {},
   "outputs": [
    {
     "name": "stdout",
     "output_type": "stream",
     "text": [
      "Sum: 8.0\n",
      "Difference: 1.0\n",
      "Product: 20.0\n",
      "Quotient: 1.25\n"
     ]
    }
   ],
   "source": [
    "num1 = float(input('Enter the first num'))\n",
    "num2 = float(input('Enter the second num'))\n",
    "\n",
    "sum = num1 + num1\n",
    "difference = num2 - num1\n",
    "product = num1 * num2\n",
    "quotient = num2 / num1\n",
    "\n",
    "\n",
    "print(\"Sum:\", sum)\n",
    "print(\"Difference:\", difference)\n",
    "print(\"Product:\", product)\n",
    "print(\"Quotient:\", quotient)\n",
    "\n"
   ]
  },
  {
   "cell_type": "code",
   "execution_count": null,
   "id": "9d9dd0c2",
   "metadata": {},
   "outputs": [],
   "source": []
  }
 ],
 "metadata": {
  "kernelspec": {
   "display_name": "Python 3",
   "language": "python",
   "name": "python3"
  },
  "language_info": {
   "codemirror_mode": {
    "name": "ipython",
    "version": 3
   },
   "file_extension": ".py",
   "mimetype": "text/x-python",
   "name": "python",
   "nbconvert_exporter": "python",
   "pygments_lexer": "ipython3",
   "version": "3.11.13"
  }
 },
 "nbformat": 4,
 "nbformat_minor": 5
}
