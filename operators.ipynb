{
 "cells": [
  {
   "cell_type": "code",
   "execution_count": 4,
   "id": "2dca5377",
   "metadata": {},
   "outputs": [
    {
     "data": {
      "text/plain": [
       "False"
      ]
     },
     "execution_count": 4,
     "metadata": {},
     "output_type": "execute_result"
    }
   ],
   "source": [
    "a = 10\n",
    "b = 20\n",
    "a==b"
   ]
  },
  {
   "cell_type": "code",
   "execution_count": 6,
   "id": "501864af",
   "metadata": {},
   "outputs": [
    {
     "name": "stdout",
     "output_type": "stream",
     "text": [
      "Addition: 13\n",
      "Subtraction: 7\n",
      "Multiplication: 30\n",
      "Division: 3.3333333333333335\n",
      "Floor Division: 3\n",
      "Modulus: 1\n",
      "Exponent: 1000\n"
     ]
    }
   ],
   "source": [
    "##  Arithmetic Operations\n",
    "a = 10\n",
    "b = 3\n",
    "\n",
    "print(\"Addition:\", a + b)         # 13\n",
    "print(\"Subtraction:\", a - b)      # 7\n",
    "print(\"Multiplication:\", a * b)   # 30\n",
    "print(\"Division:\", a / b)         # 3.333...\n",
    "print(\"Floor Division:\", a // b)  # 3\n",
    "print(\"Modulus:\", a % b)          # 1\n",
    "print(\"Exponent:\", a ** b)        # 1000\n"
   ]
  },
  {
   "cell_type": "code",
   "execution_count": 8,
   "id": "941dba37",
   "metadata": {},
   "outputs": [
    {
     "name": "stdout",
     "output_type": "stream",
     "text": [
      "Equal: False\n",
      "Not Equal: True\n",
      "Greater Than: False\n",
      "Less Than: True\n",
      "Greater or Equal: False\n",
      "Less or Equal: True\n"
     ]
    }
   ],
   "source": [
    "## Comparison Operations\n",
    "x = 5\n",
    "y = 10\n",
    "\n",
    "print(\"Equal:\", x == y)          # False\n",
    "print(\"Not Equal:\", x != y)      # True\n",
    "print(\"Greater Than:\", x > y)    # False\n",
    "print(\"Less Than:\", x < y)       # True\n",
    "print(\"Greater or Equal:\", x >= y)  # False\n",
    "print(\"Less or Equal:\", x <= y)     # True\n"
   ]
  },
  {
   "cell_type": "code",
   "execution_count": 9,
   "id": "9531de56",
   "metadata": {},
   "outputs": [
    {
     "name": "stdout",
     "output_type": "stream",
     "text": [
      "Python Rocks\n",
      "PythonPythonPython\n"
     ]
    }
   ],
   "source": [
    "## String Operations\n",
    "first = \"Python\"\n",
    "second = \"Rocks\"\n",
    "\n",
    "# Concatenation\n",
    "print(first + \" \" + second)      # Python Rocks\n",
    "\n",
    "# Repetition\n",
    "print(first * 3)                 # PythonPythonPython\n"
   ]
  },
  {
   "cell_type": "code",
   "execution_count": 10,
   "id": "0a800fb7",
   "metadata": {},
   "outputs": [
    {
     "name": "stdout",
     "output_type": "stream",
     "text": [
      "AND: False\n",
      "OR: True\n",
      "NOT A: False\n"
     ]
    }
   ],
   "source": [
    "## Logical Operations\n",
    "a = True\n",
    "b = False\n",
    "\n",
    "print(\"AND:\", a and b)      # False\n",
    "print(\"OR:\", a or b)        # True\n",
    "print(\"NOT A:\", not a)      # False\n"
   ]
  },
  {
   "cell_type": "code",
   "execution_count": null,
   "id": "ab0f5208",
   "metadata": {},
   "outputs": [],
   "source": []
  }
 ],
 "metadata": {
  "kernelspec": {
   "display_name": "Python 3",
   "language": "python",
   "name": "python3"
  },
  "language_info": {
   "codemirror_mode": {
    "name": "ipython",
    "version": 3
   },
   "file_extension": ".py",
   "mimetype": "text/x-python",
   "name": "python",
   "nbconvert_exporter": "python",
   "pygments_lexer": "ipython3",
   "version": "3.11.13"
  }
 },
 "nbformat": 4,
 "nbformat_minor": 5
}
